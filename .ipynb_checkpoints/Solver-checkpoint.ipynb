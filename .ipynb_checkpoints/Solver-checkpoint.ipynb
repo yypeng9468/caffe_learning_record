{
 "cells": [
  {
   "cell_type": "markdown",
   "metadata": {},
   "source": [
    "The solver orchestrates model optimization by coordinating the network’s forward inference and backward gradients to form parameter updates that attempt to improve the loss. \n",
    "\n",
    "solver主要用来实现模型优化，它主要通过定义网络前向inference和反向梯度来实现参数更新，最终实现损失最小化。\n",
    "\n",
    "The responsibilities of learning are divided between the Solver for overseeing the optimization and generating parameter updates and the Net for yielding loss and gradients.\n",
    "\n",
    "Solver的学习任务主要分为监督优化和更新模型参数和网络来产生损失和梯度。\n",
    "\n",
    "The Caffe solvers are:\n",
    "\n",
    "Stochastic Gradient Descent (type: \"SGD\"),\n",
    "\n",
    "AdaDelta (type: \"AdaDelta\"),\n",
    "\n",
    "Adaptive Gradient (type: \"AdaGrad\"),\n",
    "\n",
    "Adam (type: \"Adam\"),\n",
    "\n",
    "Nesterov’s Accelerated Gradient (type: \"Nesterov\") and\n",
    "\n",
    "RMSprop (type: \"RMSProp\")"
   ]
  },
  {
   "cell_type": "markdown",
   "metadata": {},
   "source": []
  }
 ],
 "metadata": {
  "kernelspec": {
   "display_name": "Python 3",
   "language": "python",
   "name": "python3"
  },
  "language_info": {
   "codemirror_mode": {
    "name": "ipython",
    "version": 3
   },
   "file_extension": ".py",
   "mimetype": "text/x-python",
   "name": "python",
   "nbconvert_exporter": "python",
   "pygments_lexer": "ipython3",
   "version": "3.5.3"
  }
 },
 "nbformat": 4,
 "nbformat_minor": 2
}
